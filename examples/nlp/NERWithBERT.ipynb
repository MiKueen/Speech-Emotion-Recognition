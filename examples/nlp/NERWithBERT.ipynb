{
 "cells": [
  {
   "cell_type": "code",
   "execution_count": null,
   "metadata": {},
   "outputs": [],
   "source": [
    "import math\n",
    "import os\n",
    "\n",
    "import nemo\n",
    "from nemo.utils.lr_policies import WarmupAnnealing\n",
    "\n",
    "import nemo_nlp\n",
    "from nemo_nlp import NemoBertTokenizer, SentencePieceTokenizer\n",
    "from nemo_nlp.utils.callbacks.token_classification import \\\n",
    "    eval_iter_callback, eval_epochs_done_callback\n",
    "\n",
    "BATCHES_PER_STEP = 1\n",
    "BATCH_SIZE = 32\n",
    "CLASSIFICATION_DROPOUT = 0.1\n",
    "# You can download pre-processed data from here: \n",
    "# https://github.com/kyzhouhzau/BERT-NER/tree/master/data\n",
    "DATA_DIR = \"PATH TO WHERE THE DATA IS\"\n",
    "MAX_SEQ_LENGTH = 128\n",
    "NUM_EPOCHS = 3\n",
    "LEARNING_RATE = 0.00005\n",
    "LR_WARMUP_PROPORTION = 0.1\n",
    "OPTIMIZER = \"adam\""
   ]
  },
  {
   "cell_type": "code",
   "execution_count": null,
   "metadata": {},
   "outputs": [],
   "source": [
    "# Instantiate neural factory with supported backend\n",
    "neural_factory = nemo.core.NeuralModuleFactory(\n",
    "    backend=nemo.core.Backend.PyTorch,\n",
    "\n",
    "    # If you're training with multiple GPUs, you should handle this value with\n",
    "    # something like argparse. See examples/nlp/token_classification.py for an example.\n",
    "    local_rank=None,\n",
    "\n",
    "    # If you're training with mixed precision, this should be set to mxprO1 or mxprO2.\n",
    "    # See https://nvidia.github.io/apex/amp.html#opt-levels for more details.\n",
    "    optimization_level=\"O0\",\n",
    "\n",
    "    # If you're training with multiple GPUs, this should be set to\n",
    "    # nemo.core.DeviceType.AllGpu\n",
    "    placement=nemo.core.DeviceType.GPU)"
   ]
  },
  {
   "cell_type": "code",
   "execution_count": null,
   "metadata": {},
   "outputs": [],
   "source": [
    "# If you're using a standard BERT model, you should do it like this. To see the full\n",
    "# list of BERT model names, check out nemo_nlp.huggingface.BERT.list_pretrained_models()\n",
    "tokenizer = NemoBertTokenizer(pretrained_model=\"bert-base-cased\")\n",
    "bert_model = nemo_nlp.huggingface.BERT(\n",
    "    pretrained_model_name=\"bert-base-cased\")"
   ]
  },
  {
   "cell_type": "code",
   "execution_count": null,
   "metadata": {},
   "outputs": [],
   "source": [
    "# Describe training DAG\n",
    "train_data_layer = nemo_nlp.BertTokenClassificationDataLayer(\n",
    "        tokenizer=tokenizer,\n",
    "        text_file=os.path.join(DATA_DIR, 'text_train.txt'),\n",
    "        label_file=os.path.join(DATA_DIR, 'labels_train.txt'),\n",
    "        max_seq_length=MAX_SEQ_LENGTH,\n",
    "        batch_size=BATCH_SIZE)\n",
    "\n",
    "label_ids = train_data_layer.dataset.label_ids\n",
    "num_classes = len(label_ids)\n",
    "\n",
    "hidden_size = bert_model.local_parameters[\"hidden_size\"]\n",
    "ner_classifier = nemo_nlp.TokenClassifier(hidden_size=hidden_size,\n",
    "                                          num_classes=num_classes,\n",
    "                                          dropout=CLASSIFICATION_DROPOUT)\n",
    "\n",
    "ner_loss = nemo_nlp.TokenClassificationLoss(d_model=hidden_size,\n",
    "                                            num_classes=len(label_ids),\n",
    "                                            dropout=CLASSIFICATION_DROPOUT)\n",
    "\n",
    "input_ids, input_type_ids, input_mask, loss_mask, _, labels = train_data_layer()\n",
    "\n",
    "hidden_states = bert_model(input_ids=input_ids,\n",
    "                           token_type_ids=input_type_ids,\n",
    "                           attention_mask=input_mask)\n",
    "\n",
    "logits = ner_classifier(hidden_states=hidden_states)\n",
    "loss = ner_loss(logits=logits, labels=labels, loss_mask=loss_mask)"
   ]
  },
  {
   "cell_type": "code",
   "execution_count": null,
   "metadata": {},
   "outputs": [],
   "source": [
    "# Describe evaluation DAG\n",
    "eval_data_layer = nemo_nlp.BertTokenClassificationDataLayer(\n",
    "        tokenizer=tokenizer,\n",
    "        text_file=os.path.join(DATA_DIR, 'text_dev.txt'),\n",
    "        label_file=os.path.join(DATA_DIR, 'labels_dev.txt'),\n",
    "        max_seq_length=MAX_SEQ_LENGTH,\n",
    "        batch_size=BATCH_SIZE,\n",
    "        label_ids=label_ids)\n",
    "\n",
    "eval_input_ids, eval_input_type_ids, eval_input_mask, _, eval_subtokens_mask, eval_labels \\\n",
    "    = eval_data_layer()\n",
    "\n",
    "hidden_states = bert_model(\n",
    "    input_ids=eval_input_ids,\n",
    "    token_type_ids=eval_input_type_ids,\n",
    "    attention_mask=eval_input_mask)\n",
    "\n",
    "eval_logits = ner_classifier(hidden_states=hidden_states)"
   ]
  },
  {
   "cell_type": "code",
   "execution_count": null,
   "metadata": {},
   "outputs": [],
   "source": [
    "callback_train = nemo.core.SimpleLossLoggerCallback(\n",
    "    tensors=[loss],\n",
    "    print_func=lambda x: print(\"Loss: {:.3f}\".format(x[0].item())))\n",
    "\n",
    "train_data_size = len(train_data_layer)\n",
    "\n",
    "# If you're training on multiple GPUs, this should be\n",
    "# train_data_size / (batch_size * batches_per_step * num_gpus)\n",
    "steps_per_epoch = int(train_data_size / (BATCHES_PER_STEP * BATCH_SIZE))\n",
    "\n",
    "callback_eval = nemo.core.EvaluatorCallback(\n",
    "    eval_tensors=[eval_logits, eval_labels, eval_subtokens_mask],\n",
    "    user_iter_callback=lambda x, y: eval_iter_callback(x, y),\n",
    "    user_epochs_done_callback=lambda x: eval_epochs_done_callback(x, label_ids),\n",
    "    eval_step=steps_per_epoch)"
   ]
  },
  {
   "cell_type": "code",
   "execution_count": null,
   "metadata": {},
   "outputs": [],
   "source": [
    "lr_policy = WarmupAnnealing(NUM_EPOCHS * steps_per_epoch,\n",
    "                            warmup_ratio=LR_WARMUP_PROPORTION)\n",
    "neural_factory.train(\n",
    "    tensors_to_optimize=[loss],\n",
    "    callbacks=[callback_train, callback_eval],\n",
    "    lr_policy=lr_policy,\n",
    "    batches_per_step=BATCHES_PER_STEP,\n",
    "    optimizer=OPTIMIZER,\n",
    "    optimization_params={\n",
    "        \"num_epochs\": NUM_EPOCHS,\n",
    "        \"lr\": LEARNING_RATE\n",
    "    })"
   ]
  },
  {
   "cell_type": "code",
   "execution_count": null,
   "metadata": {},
   "outputs": [],
   "source": []
  }
 ],
 "metadata": {
  "kernelspec": {
   "display_name": "Python 3",
   "language": "python",
   "name": "python3"
  },
  "language_info": {
   "codemirror_mode": {
    "name": "ipython",
    "version": 3
   },
   "file_extension": ".py",
   "mimetype": "text/x-python",
   "name": "python",
   "nbconvert_exporter": "python",
   "pygments_lexer": "ipython3",
   "version": "3.7.4"
  }
 },
 "nbformat": 4,
 "nbformat_minor": 2
}
